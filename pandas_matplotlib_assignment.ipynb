{
 "cells": [
  {
   "cell_type": "markdown",
   "id": "4a087045",
   "metadata": {},
   "source": [
    "# 📊 Data Analysis with Pandas & Matplotlib\n",
    "This notebook covers loading, analyzing, and visualizing a dataset using **Pandas**, **Matplotlib**, and **Seaborn**."
   ]
  },
  {
   "cell_type": "markdown",
   "id": "b99a2e4c",
   "metadata": {},
   "source": [
    "## Task 1: Import Libraries"
   ]
  },
  {
   "cell_type": "code",
   "execution_count": null,
   "id": "348b38ec",
   "metadata": {},
   "outputs": [],
   "source": [
    "\n",
    "import pandas as pd\n",
    "import matplotlib.pyplot as plt\n",
    "import seaborn as sns\n",
    "\n",
    "# Optional: Make plots look nicer\n",
    "sns.set(style=\"whitegrid\")\n"
   ]
  },
  {
   "cell_type": "markdown",
   "id": "9b77100a",
   "metadata": {},
   "source": [
    "## Task 1: Load and Explore the Dataset"
   ]
  },
  {
   "cell_type": "code",
   "execution_count": null,
   "id": "c1981fbe",
   "metadata": {},
   "outputs": [],
   "source": [
    "\n",
    "try:\n",
    "    # Example: using Iris dataset from seaborn\n",
    "    df = sns.load_dataset(\"iris\")  \n",
    "    # If using your own dataset, replace with:\n",
    "    # df = pd.read_csv(\"your_dataset.csv\")\n",
    "    \n",
    "    print(\"✅ Dataset loaded successfully!\\n\")\n",
    "except FileNotFoundError:\n",
    "    print(\"❌ Error: File not found. Please check the dataset path.\")\n",
    "except Exception as e:\n",
    "    print(\"❌ Error loading dataset:\", e)\n",
    "\n",
    "# Display first 5 rows\n",
    "df.head()\n"
   ]
  },
  {
   "cell_type": "code",
   "execution_count": null,
   "id": "8432a6e9",
   "metadata": {},
   "outputs": [],
   "source": [
    "\n",
    "# Check structure\n",
    "df.info()\n",
    "\n",
    "# Check missing values\n",
    "df.isnull().sum()\n"
   ]
  },
  {
   "cell_type": "code",
   "execution_count": null,
   "id": "5f663553",
   "metadata": {},
   "outputs": [],
   "source": [
    "\n",
    "# Handle missing values (if any)\n",
    "df = df.dropna()   # Or df.fillna(value, inplace=True)\n"
   ]
  },
  {
   "cell_type": "markdown",
   "id": "dfc5dc99",
   "metadata": {},
   "source": [
    "## Task 2: Basic Data Analysis"
   ]
  },
  {
   "cell_type": "code",
   "execution_count": null,
   "id": "411bfded",
   "metadata": {},
   "outputs": [],
   "source": [
    "\n",
    "# Basic Statistics\n",
    "df.describe()\n"
   ]
  },
  {
   "cell_type": "code",
   "execution_count": null,
   "id": "137d351a",
   "metadata": {},
   "outputs": [],
   "source": [
    "\n",
    "# Example grouping: mean petal length per species\n",
    "grouped = df.groupby(\"species\")[\"petal_length\"].mean()\n",
    "grouped\n"
   ]
  },
  {
   "cell_type": "markdown",
   "id": "4097be1d",
   "metadata": {},
   "source": [
    "## Task 3: Data Visualization"
   ]
  },
  {
   "cell_type": "code",
   "execution_count": null,
   "id": "6ebb78a5",
   "metadata": {},
   "outputs": [],
   "source": [
    "\n",
    "plt.figure(figsize=(8,5))\n",
    "plt.plot(df.index, df[\"petal_length\"], label=\"Petal Length\", color=\"blue\")\n",
    "plt.title(\"Line Chart: Petal Length Over Samples\")\n",
    "plt.xlabel(\"Sample Index\")\n",
    "plt.ylabel(\"Petal Length\")\n",
    "plt.legend()\n",
    "plt.show()\n"
   ]
  },
  {
   "cell_type": "code",
   "execution_count": null,
   "id": "e9720286",
   "metadata": {},
   "outputs": [],
   "source": [
    "\n",
    "plt.figure(figsize=(8,5))\n",
    "grouped.plot(kind=\"bar\", color=\"orange\")\n",
    "plt.title(\"Bar Chart: Average Petal Length per Species\")\n",
    "plt.xlabel(\"Species\")\n",
    "plt.ylabel(\"Average Petal Length\")\n",
    "plt.show()\n"
   ]
  },
  {
   "cell_type": "code",
   "execution_count": null,
   "id": "eb8551e1",
   "metadata": {},
   "outputs": [],
   "source": [
    "\n",
    "plt.figure(figsize=(8,5))\n",
    "plt.hist(df[\"sepal_length\"], bins=15, color=\"green\", edgecolor=\"black\")\n",
    "plt.title(\"Histogram: Sepal Length Distribution\")\n",
    "plt.xlabel(\"Sepal Length\")\n",
    "plt.ylabel(\"Frequency\")\n",
    "plt.show()\n"
   ]
  },
  {
   "cell_type": "code",
   "execution_count": null,
   "id": "3664eb5e",
   "metadata": {},
   "outputs": [],
   "source": [
    "\n",
    "plt.figure(figsize=(8,5))\n",
    "plt.scatter(df[\"sepal_length\"], df[\"petal_length\"], alpha=0.7, c=\"red\")\n",
    "plt.title(\"Scatter Plot: Sepal Length vs Petal Length\")\n",
    "plt.xlabel(\"Sepal Length\")\n",
    "plt.ylabel(\"Petal Length\")\n",
    "plt.show()\n"
   ]
  },
  {
   "cell_type": "markdown",
   "id": "51f2b10b",
   "metadata": {},
   "source": [
    "## Findings / Observations\n",
    "- The Iris dataset has no missing values and 3 species categories.\n",
    "- Versicolor species tends to have intermediate petal lengths.\n",
    "- Sepal length distribution shows a normal-like spread.\n",
    "- Scatter plot shows a positive correlation between sepal length and petal length."
   ]
  }
 ],
 "metadata": {},
 "nbformat": 4,
 "nbformat_minor": 5
}
